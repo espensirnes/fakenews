{
 "cells": [
  {
   "cell_type": "markdown",
   "metadata": {},
   "source": [
    "# ARMA-GARCH"
   ]
  },
  {
   "cell_type": "code",
   "execution_count": 1,
   "metadata": {},
   "outputs": [],
   "source": [
    "import paneltime as pt\n",
    "import pandas as pd\n",
    "\n",
    "pt.options.pqdkm.set([1,1,0,2,2])\n",
    "pt.options.fixed_random_group_eff.set(0)\n",
    "pt.options.fixed_random_time_eff.set(0)\n",
    "pt.options.EGARCH.set(False)\n",
    "\n",
    "%load_ext autoreload\n",
    "%autoreload 2"
   ]
  },
  {
   "cell_type": "markdown",
   "metadata": {},
   "source": [
    "#### ARMA-GARCH (Using *changes* in the news sentiment series, for which we use forecast error of AR(1))"
   ]
  },
  {
   "cell_type": "markdown",
   "metadata": {},
   "source": [
    "##### 1. For real news"
   ]
  },
  {
   "cell_type": "code",
   "execution_count": 2,
   "metadata": {},
   "outputs": [],
   "source": [
    "real_news = pd.read_excel(\"RealNewsDjiaReturns.xlsx\")\n",
    "real_news = real_news.rename(columns={'Real News':'News_sentiment'})\n",
    "real_news = real_news.fillna(0)"
   ]
  },
  {
   "cell_type": "code",
   "execution_count": 3,
   "metadata": {},
   "outputs": [
    {
     "data": {
      "text/html": [
       "<div>\n",
       "<style scoped>\n",
       "    .dataframe tbody tr th:only-of-type {\n",
       "        vertical-align: middle;\n",
       "    }\n",
       "\n",
       "    .dataframe tbody tr th {\n",
       "        vertical-align: top;\n",
       "    }\n",
       "\n",
       "    .dataframe thead th {\n",
       "        text-align: right;\n",
       "    }\n",
       "</style>\n",
       "<table border=\"1\" class=\"dataframe\">\n",
       "  <thead>\n",
       "    <tr style=\"text-align: right;\">\n",
       "      <th></th>\n",
       "      <th>Date</th>\n",
       "      <th>News_sentiment</th>\n",
       "      <th>return</th>\n",
       "    </tr>\n",
       "  </thead>\n",
       "  <tbody>\n",
       "    <tr>\n",
       "      <th>0</th>\n",
       "      <td>2014-11-17</td>\n",
       "      <td>-0.011141</td>\n",
       "      <td>0.000737</td>\n",
       "    </tr>\n",
       "    <tr>\n",
       "      <th>1</th>\n",
       "      <td>2014-11-18</td>\n",
       "      <td>-0.023757</td>\n",
       "      <td>0.002268</td>\n",
       "    </tr>\n",
       "    <tr>\n",
       "      <th>2</th>\n",
       "      <td>2014-11-19</td>\n",
       "      <td>-0.020513</td>\n",
       "      <td>-0.000118</td>\n",
       "    </tr>\n",
       "    <tr>\n",
       "      <th>3</th>\n",
       "      <td>2014-11-20</td>\n",
       "      <td>-0.017292</td>\n",
       "      <td>0.001879</td>\n",
       "    </tr>\n",
       "    <tr>\n",
       "      <th>4</th>\n",
       "      <td>2014-11-21</td>\n",
       "      <td>-0.014237</td>\n",
       "      <td>0.005126</td>\n",
       "    </tr>\n",
       "    <tr>\n",
       "      <th>...</th>\n",
       "      <td>...</td>\n",
       "      <td>...</td>\n",
       "      <td>...</td>\n",
       "    </tr>\n",
       "    <tr>\n",
       "      <th>1856</th>\n",
       "      <td>2022-04-04</td>\n",
       "      <td>-0.010877</td>\n",
       "      <td>0.002982</td>\n",
       "    </tr>\n",
       "    <tr>\n",
       "      <th>1857</th>\n",
       "      <td>2022-04-05</td>\n",
       "      <td>-0.010975</td>\n",
       "      <td>-0.008044</td>\n",
       "    </tr>\n",
       "    <tr>\n",
       "      <th>1858</th>\n",
       "      <td>2022-04-06</td>\n",
       "      <td>-0.013732</td>\n",
       "      <td>-0.004198</td>\n",
       "    </tr>\n",
       "    <tr>\n",
       "      <th>1859</th>\n",
       "      <td>2022-04-07</td>\n",
       "      <td>0.377177</td>\n",
       "      <td>0.002513</td>\n",
       "    </tr>\n",
       "    <tr>\n",
       "      <th>1860</th>\n",
       "      <td>2022-04-08</td>\n",
       "      <td>-0.011604</td>\n",
       "      <td>0.004011</td>\n",
       "    </tr>\n",
       "  </tbody>\n",
       "</table>\n",
       "<p>1861 rows × 3 columns</p>\n",
       "</div>"
      ],
      "text/plain": [
       "           Date  News_sentiment    return\n",
       "0    2014-11-17       -0.011141  0.000737\n",
       "1    2014-11-18       -0.023757  0.002268\n",
       "2    2014-11-19       -0.020513 -0.000118\n",
       "3    2014-11-20       -0.017292  0.001879\n",
       "4    2014-11-21       -0.014237  0.005126\n",
       "...         ...             ...       ...\n",
       "1856 2022-04-04       -0.010877  0.002982\n",
       "1857 2022-04-05       -0.010975 -0.008044\n",
       "1858 2022-04-06       -0.013732 -0.004198\n",
       "1859 2022-04-07        0.377177  0.002513\n",
       "1860 2022-04-08       -0.011604  0.004011\n",
       "\n",
       "[1861 rows x 3 columns]"
      ]
     },
     "execution_count": 3,
     "metadata": {},
     "output_type": "execute_result"
    }
   ],
   "source": [
    "real_news"
   ]
  },
  {
   "cell_type": "code",
   "execution_count": 4,
   "metadata": {},
   "outputs": [],
   "source": [
    "import numpy as np\n",
    "from statsmodels.tsa.ar_model import AutoReg\n",
    "from statsmodels.tsa.stattools import adfuller\n",
    "\n",
    "df = real_news[['News_sentiment']]\n",
    "\n",
    "# Check for stationarity. If p > 0.05, difference the series.\n",
    "result = adfuller(df)\n",
    "if result[1] > 0.05:\n",
    "    df = sdf.diff().dropna()\n",
    "\n",
    "errors = []\n",
    "\n",
    "for t in range(4, len(df)):\n",
    "    train = df.iloc[:t]\n",
    "    test = df.iloc[t]\n",
    "    \n",
    "    model = AutoReg(train, lags=1)\n",
    "    model_fit = model.fit()\n",
    "    \n",
    "    prediction = model_fit.predict(start=len(train), end=len(train))\n",
    "    \n",
    "    # Check if the prediction is nan.\n",
    "    if not np.isnan(prediction.iloc[0]):\n",
    "        error = test - prediction.iloc[0]\n",
    "        errors.append(error)\n",
    "\n",
    "# Convert errors to a numpy array\n",
    "errors = np.array(errors)"
   ]
  },
  {
   "cell_type": "code",
   "execution_count": 5,
   "metadata": {},
   "outputs": [
    {
     "data": {
      "text/plain": [
       "1857"
      ]
     },
     "execution_count": 5,
     "metadata": {},
     "output_type": "execute_result"
    }
   ],
   "source": [
    "len(errors)"
   ]
  },
  {
   "cell_type": "code",
   "execution_count": 6,
   "metadata": {
    "collapsed": true,
    "jupyter": {
     "outputs_hidden": true
    }
   },
   "outputs": [
    {
     "name": "stderr",
     "output_type": "stream",
     "text": [
      "<ipython-input-6-0e6a9b02ab3f>:2: SettingWithCopyWarning: \n",
      "A value is trying to be set on a copy of a slice from a DataFrame.\n",
      "Try using .loc[row_indexer,col_indexer] = value instead\n",
      "\n",
      "See the caveats in the documentation: https://pandas.pydata.org/pandas-docs/stable/user_guide/indexing.html#returning-a-view-versus-a-copy\n",
      "  real_news ['News_Change'] = errors\n"
     ]
    },
    {
     "data": {
      "text/plain": [
       "1857"
      ]
     },
     "execution_count": 6,
     "metadata": {},
     "output_type": "execute_result"
    }
   ],
   "source": [
    "real_news = real_news [4:]\n",
    "real_news ['News_Change'] = errors\n",
    "del real_news['News_sentiment']\n",
    "len(real_news)"
   ]
  },
  {
   "cell_type": "code",
   "execution_count": 7,
   "metadata": {
    "collapsed": true,
    "jupyter": {
     "outputs_hidden": true
    }
   },
   "outputs": [
    {
     "name": "stderr",
     "output_type": "stream",
     "text": [
      "<ipython-input-7-f7ac82c15cff>:1: SettingWithCopyWarning: \n",
      "A value is trying to be set on a copy of a slice from a DataFrame.\n",
      "Try using .loc[row_indexer,col_indexer] = value instead\n",
      "\n",
      "See the caveats in the documentation: https://pandas.pydata.org/pandas-docs/stable/user_guide/indexing.html#returning-a-view-versus-a-copy\n",
      "  real_news['LNews_Change1'] = real_news['News_Change'].shift(1)\n"
     ]
    }
   ],
   "source": [
    "real_news['LNews_Change1'] = real_news['News_Change'].shift(1)\n",
    "\n",
    "real_news = real_news.dropna()"
   ]
  },
  {
   "cell_type": "code",
   "execution_count": 8,
   "metadata": {},
   "outputs": [
    {
     "name": "stdout",
     "output_type": "stream",
     "text": [
      "its:0, f:5854.770228773588, gnorm: 0.009148408590367429\n",
      "its:1, f:5973.246700896172, gnorm: 0.030452888551853633\n",
      "its:2, f:6108.429330474215, gnorm: 0.05291330614336043\n",
      "its:3, f:6192.020485921695, gnorm: 0.04070439535419849\n",
      "its:4, f:6195.7112329454, gnorm: 0.054028461140207554\n",
      "its:5, f:6203.373356267011, gnorm: 0.01040048087747863\n",
      "its:6, f:6204.728756816424, gnorm: 0.006545684172561416\n",
      "its:7, f:6213.733062033001, gnorm: 0.0046875329571210165\n",
      "its:8, f:6217.001312920447, gnorm: 0.016188042421543845\n",
      "its:9, f:6222.0941950281485, gnorm: 0.014523662512080348\n",
      "its:10, f:6224.13979869331, gnorm: 0.0033661931969339626\n",
      "its:11, f:6224.831110008303, gnorm: 0.0019030430940192285\n",
      "its:12, f:6225.072574790506, gnorm: 0.0035717380920737302\n",
      "its:13, f:6225.20084871379, gnorm: 0.001492485966570103\n",
      "its:14, f:6225.234974958217, gnorm: 0.004328600031663676\n",
      "its:15, f:6225.285995765312, gnorm: 0.0021504489672543245\n",
      "its:16, f:6235.184750307295, gnorm: 0.007084778667665813\n",
      "its:17, f:6239.788992129177, gnorm: 0.007606010543291378\n",
      "its:18, f:6246.25438293976, gnorm: 0.003783696934787443\n",
      "its:19, f:6246.841394242845, gnorm: 0.003765076668130205\n",
      "its:20, f:6247.594277785709, gnorm: 0.004957958204282267\n",
      "its:21, f:6247.6683890106, gnorm: 0.0017943491660266282\n",
      "its:22, f:6247.696844971779, gnorm: 0.0032157771642751824\n",
      "its:23, f:6247.707911313286, gnorm: 0.0030207242094628106\n",
      "its:24, f:6248.07786614646, gnorm: 0.0032632751701421\n",
      "its:25, f:6248.084257582843, gnorm: 0.0014778955740712527\n",
      "its:26, f:6248.150490107616, gnorm: 0.0021738763236542323\n",
      "its:27, f:6248.163240988158, gnorm: 0.0032225461877519596\n",
      "its:28, f:6248.1841406943295, gnorm: 0.002627289720436922\n",
      "its:29, f:6248.185448800978, gnorm: 0.002011067368288816\n",
      "its:30, f:6248.190835340207, gnorm: 0.0032251690235770786\n",
      "its:31, f:6248.191383673348, gnorm: 0.0015626780358949349\n",
      "its:32, f:6248.191869169979, gnorm: 0.001559554872810745\n",
      "its:33, f:6248.191880979113, gnorm: 0.003203444287667187\n",
      "its:34, f:6248.193078901315, gnorm: 0.0017178164784706117\n",
      "its:35, f:6248.193104328045, gnorm: 0.001696526923520969\n",
      "its:36, f:6248.193110434544, gnorm: 0.0016932622140415395\n",
      "its:37, f:6248.1932304720285, gnorm: 0.0016516203302782946\n",
      "its:38, f:6248.193447708138, gnorm: 0.0016039997934093396\n",
      "its:39, f:6248.193560174164, gnorm: 0.0015907140350243057\n",
      "its:40, f:6248.193654799037, gnorm: 0.0015900836339336217\n",
      "its:41, f:6248.193674626885, gnorm: 0.0015899500243052134\n",
      "its:42, f:6248.19367584895, gnorm: 0.0031615110147856715\n",
      "its:43, f:6248.193876149888, gnorm: 0.0016817583803862767\n",
      "its:44, f:6248.19387987737, gnorm: 0.0016823648214842359\n",
      "its:45, f:6248.194140779749, gnorm: 0.002993365828067095\n",
      "its:46, f:6248.194147585952, gnorm: 0.0017032889050070887\n",
      "its:47, f:6248.232057162221, gnorm: 0.001422067666258046\n",
      "its:48, f:6248.23206602385, gnorm: 0.0018800805197841835\n",
      "its:49, f:6248.232067884068, gnorm: 0.0028481254668271875\n",
      "its:50, f:6248.23346862998, gnorm: 0.0012123081292475168\n",
      "its:51, f:6248.233529612831, gnorm: 0.0014952603089392535\n",
      "its:52, f:6248.233529938661, gnorm: 0.0011699116980458451\n",
      "its:53, f:6248.23353014269, gnorm: 0.0014963878457123466\n",
      "its:54, f:6248.233530206142, gnorm: 0.0011688133185425774\n",
      "its:55, f:6248.233530212742, gnorm: 0.0014964642628894093\n",
      "its:56, f:6248.233530213791, gnorm: 0.0019370295057709373\n",
      "its:57, f:6248.233530213944, gnorm: 0.0026945169494973905\n",
      "its:58, f:6248.2335302151605, gnorm: 0.0014964594946658143\n",
      "its:59, f:6248.233530215224, gnorm: 0.0011688291491295944\n",
      "its:60, f:6248.233530215322, gnorm: 0.001496480484060411\n",
      "its:61, f:6248.233530215322, gnorm: 0.0011688093914624163\n",
      "its:62, f:6248.233530215322, gnorm: 0.00116880944253767\n",
      "its:63, f:6248.233530215322, gnorm: 0.0011688094567508791\n",
      "its:64, f:6248.233530215322, gnorm: 0.0019370666823648633\n",
      "its:65, f:6248.233530215324, gnorm: 0.0014964802153696383\n",
      "its:66, f:6248.233530215324, gnorm: 0.0011688092217281459\n",
      "its:67, f:6248.233530215324, gnorm: 0.0011688078181109468\n",
      "its:68, f:6248.233530215324, gnorm: 0.0014964812527651066\n",
      "its:69, f:6248.233530215324, gnorm: 0.0014964815348787618\n",
      "its:70, f:6248.233530215324, gnorm: 0.0014964815124383435\n",
      "its:71, f:6248.233530215324, gnorm: 0.0011688076805822407\n",
      "its:72, f:6248.233530215324, gnorm: 0.0019370678302120681\n",
      "its:73, f:6248.233553346831, gnorm: 0.0027348442882932774\n",
      "its:74, f:6248.238115013752, gnorm: 0.0036399934942909313\n",
      "its:75, f:6248.239824259345, gnorm: 0.0036873413863159695\n",
      "its:76, f:6248.240024791905, gnorm: 0.003682220321911912\n",
      "its:77, f:6248.2434328603285, gnorm: 0.0036693420027742773\n",
      "its:78, f:6248.244013188154, gnorm: 0.0037302756793712185\n",
      "its:79, f:6248.252344576709, gnorm: 0.003708092771385001\n",
      "its:80, f:6248.260637669826, gnorm: 0.001592987206316138\n",
      "its:81, f:6248.273420092991, gnorm: 0.0010285916347352144\n",
      "node: 5, its: 82,  LL:6248.277112963275\n",
      "Convergence on zero gradient; local or global minimum identified\n",
      "Statistics:\n",
      "========================================================================\n",
      "Dep. Variable:          return  R-squared:                          -0.0\n",
      "Model:  ARMA(1, 1)-GARCH(2, 2)  Adj R-squared:                    -0.006\n",
      "Method:     Maximum Likelihood  F-statistic:                      -0.227\n",
      "Date:         Thu, 28 Sep 2023  Prob (F-statistic):                1.254\n",
      "Time:                 15:31:51  Log-Likelihood:                 6248.277\n",
      "Run time:                 19.0  AIC:                          -12490.554\n",
      "Observations count:       1853  BIC:                           -6937.554\n",
      "Df Residuals:             1843  Panel groups:                          1\n",
      "Df Model:                    2  Panel dates:                        1856\n",
      "Covariance Type:          True                                          \n",
      "========================================================================\n",
      "\n",
      "\n",
      "Regression results:\n",
      "=========================================================================================\n",
      "   Variable names               coef  std err           [0.025    0.975]       t    P>|t|\n",
      "-----------------------------------------------------------------------------------------\n",
      "0  Intercept                 0.00066  0.00018  ***      0.0003   0.00101    3.63  0.00014\n",
      "1  News_Change              -0.00064    6e-05  ***    -0.00077  -0.00051   -10.0      0.0\n",
      "2  LNews_Change1            -0.00011    7e-05  '      -0.00025     3e-05   -1.53  0.06333\n",
      "3  rho0    AR    p          -0.59814  0.02045  ***    -0.63825  -0.55803  -29.25      0.0\n",
      "4  lambda0 MA    q           0.56876  0.02094  ***     0.52769   0.60984   27.16      0.0\n",
      "5  gamma0  GARCH k            0.4163  0.05782  ***      0.3029    0.5297     7.2      0.0\n",
      "6  gamma1  GARCH k           0.22123  0.04145  ***     0.13994   0.30252    5.34      0.0\n",
      "7  psi0    ARCH  m           0.20637  0.05305  ***     0.10232   0.31042    3.89    5e-05\n",
      "8  psi1    ARCH  m           0.10316  0.04918  *       0.00671    0.1996     2.1  0.01804\n",
      "9  log_variance_constant      -4e-05    1e-05  ***      -5e-05    -2e-05   -5.82      0.0\n",
      "=========================================================================================\n",
      "Significance codes: '=0.1, *=0.05, **=0.01, ***=0.001,    |=collinear\n",
      "\n",
      "Diagnostics:\n",
      "============================================================================\n",
      "Omnibus:                   254.488  Durbin-Watson:                     1.939\n",
      "Prob(Omnibus):             254.488  Jarque-Bera (JB):                492.437\n",
      "Skew:                       -0.674  Prob(JB):                            0.0\n",
      "Kurtosis:                   27.681  Cond. No.:                          37.0\n",
      "                                    Cond. var count.:                      1\n",
      "                                                                            \n",
      "ADF statistic:              -4.365  ADF crit.val 1%:                   -3.43\n",
      "                                    ADF crit.val 5%:                   -2.86\n",
      "============================================================================\n",
      "\n",
      "Df accounting:\n",
      "===========================================================================\n",
      "SAMPLE SIZE SUMMARY:                                                       \n",
      "Original sample size:        1856  Number of variables:                   3\n",
      "Sample size after removals:  1856  Number of groups:                      1\n",
      "Degrees of freedom:          1843  Number of dates (maximum):          1856\n",
      "                                                                           \n",
      "GROUP REMOVAL:                     DEGREES OF FREEDOM:                     \n",
      "Lost observations:                 A) sample size:                     1856\n",
      "A) ARIMA/GARCH:                 3  B) lost to GARCH/ARIMA:                3\n",
      "B) min obs (user preferences):  1  C) lost to FE/RE:                      0\n",
      "Required observations (A+B):    4  D) coefficients in regr:              10\n",
      "                                   Degrees of freedom (A-B-C-D):       1843\n",
      "Groups removed:                                                            \n",
      "A) total # of groups:           1                                          \n",
      "B) # of groups removed:         0                                          \n",
      "# of groups remaining (A-B):    1                                          \n",
      "# of observations removed:      0                                          \n",
      "===========================================================================\n",
      "\n",
      "\n"
     ]
    }
   ],
   "source": [
    "s = pt.execute(\"return~News_Change+LNews_Change1\",real_news,T='Date')\n",
    "\n",
    "print(s)"
   ]
  },
  {
   "cell_type": "markdown",
   "metadata": {},
   "source": [
    "##### 2. For fake news"
   ]
  },
  {
   "cell_type": "code",
   "execution_count": 9,
   "metadata": {},
   "outputs": [],
   "source": [
    "fake_news = pd.read_excel(\"FakeNewsDjiaReturn.xlsx\")\n",
    "fake_news = fake_news.rename(columns={'News sentiment':'News_sentiment'})\n",
    "fake_news = fake_news.fillna(0)"
   ]
  },
  {
   "cell_type": "code",
   "execution_count": 10,
   "metadata": {},
   "outputs": [],
   "source": [
    "df = fake_news[['News_sentiment']]\n",
    "\n",
    "# Check for stationarity. If p > 0.05, difference the series.\n",
    "result = adfuller(df)\n",
    "if result[1] > 0.05:\n",
    "    df = sdf.diff().dropna()\n",
    "\n",
    "errors = []\n",
    "\n",
    "for t in range(4, len(df)):\n",
    "    train = df.iloc[:t]\n",
    "    test = df.iloc[t]\n",
    "    \n",
    "    model = AutoReg(train, lags=1)\n",
    "    model_fit = model.fit()\n",
    "    \n",
    "    prediction = model_fit.predict(start=len(train), end=len(train))\n",
    "    \n",
    "    \n",
    "    if not np.isnan(prediction.iloc[0]):\n",
    "        error = test - prediction.iloc[0]\n",
    "        errors.append(error)\n",
    "\n",
    "# Convert errors to a numpy array\n",
    "errors = np.array(errors)"
   ]
  },
  {
   "cell_type": "code",
   "execution_count": 11,
   "metadata": {},
   "outputs": [
    {
     "data": {
      "text/plain": [
       "1377"
      ]
     },
     "execution_count": 11,
     "metadata": {},
     "output_type": "execute_result"
    }
   ],
   "source": [
    "len(errors)"
   ]
  },
  {
   "cell_type": "code",
   "execution_count": 12,
   "metadata": {},
   "outputs": [
    {
     "data": {
      "text/plain": [
       "1377"
      ]
     },
     "execution_count": 12,
     "metadata": {},
     "output_type": "execute_result"
    }
   ],
   "source": [
    "fake_news = fake_news [4:]\n",
    "fake_news ['News_Change'] = errors\n",
    "del fake_news['News_sentiment']\n",
    "len(fake_news)"
   ]
  },
  {
   "cell_type": "code",
   "execution_count": 13,
   "metadata": {},
   "outputs": [],
   "source": [
    "fake_news['LNews_Change1'] = fake_news['News_Change'].shift(1)\n",
    "\n",
    "fake_news = fake_news.dropna()"
   ]
  },
  {
   "cell_type": "code",
   "execution_count": 14,
   "metadata": {},
   "outputs": [
    {
     "name": "stdout",
     "output_type": "stream",
     "text": [
      "its:0, f:4454.402541775244, gnorm: 0.010684283740289856\n",
      "its:1, f:4546.822460264395, gnorm: 0.03223647586959485\n",
      "its:2, f:4631.074355474359, gnorm: 0.041414817198516134\n",
      "its:3, f:4656.886149309241, gnorm: 0.005212854287561262\n",
      "its:4, f:4661.25770274345, gnorm: 0.012902305779860354\n",
      "its:5, f:4661.521068159587, gnorm: 0.0037381076080320996\n",
      "its:6, f:4663.205228274819, gnorm: 0.028943611655292502\n",
      "its:7, f:4665.361674290194, gnorm: 0.0033675958875192887\n",
      "its:8, f:4675.166054388039, gnorm: 0.010654190004684531\n",
      "its:9, f:4685.014452090507, gnorm: 0.04075661530808496\n",
      "its:10, f:4693.751868559929, gnorm: 0.013212049995356061\n",
      "its:11, f:4699.165162308738, gnorm: 0.008525145450450002\n",
      "its:12, f:4699.859882366327, gnorm: 0.002774814916715081\n",
      "its:13, f:4702.170729747144, gnorm: 0.01938562292260008\n",
      "its:14, f:4703.328458407403, gnorm: 0.003651476231278178\n",
      "its:15, f:4703.57727499851, gnorm: 0.012403560399662344\n",
      "its:16, f:4704.444543013282, gnorm: 0.0011694478390024618\n",
      "node: 5, its: 17,  LL:4704.4510990664\n",
      "Convergence on zero gradient; local or global minimum identified\n",
      "Statistics:\n",
      "========================================================================\n",
      "Dep. Variable:          return  R-squared:                        -0.003\n",
      "Model:  ARMA(1, 1)-GARCH(2, 2)  Adj R-squared:                     -0.01\n",
      "Method:     Maximum Likelihood  F-statistic:                      -1.741\n",
      "Date:         Thu, 28 Sep 2023  Prob (F-statistic):                5.716\n",
      "Time:                 15:31:59  Log-Likelihood:                 4704.451\n",
      "Run time:                  3.0  AIC:                           -9402.902\n",
      "Observations count:       1373  BIC:                           -5289.902\n",
      "Df Residuals:             1363  Panel groups:                          1\n",
      "Df Model:                    2  Panel dates:                        1376\n",
      "Covariance Type:          True                                          \n",
      "========================================================================\n",
      "\n",
      "\n",
      "Regression results:\n",
      "=========================================================================================\n",
      "   Variable names               coef  std err           [0.025    0.975]       t    P>|t|\n",
      "-----------------------------------------------------------------------------------------\n",
      "0  Intercept                 0.00057  0.00017  ***     0.00023   0.00092    3.31  0.00048\n",
      "1  News_Change              -0.00067  0.00432         -0.00913    0.0078   -0.15  0.43876\n",
      "2  LNews_Change1             0.00522  0.00394  '       -0.0025   0.01294    1.33  0.09259\n",
      "3  rho0    AR    p          -0.69205  0.23106  **     -1.14532  -0.23878    -3.0   0.0014\n",
      "4  lambda0 MA    q           0.65185  0.24358  **      0.17403   1.12967    2.68  0.00377\n",
      "5  gamma0  GARCH k           0.65009  0.02337  ***     0.60425   0.69593   27.82      0.0\n",
      "6  gamma1  GARCH k           0.10487  0.02557  ***     0.05471   0.15503     4.1    2e-05\n",
      "7  psi0    ARCH  m           0.30988  0.01369  ***     0.28303   0.33673   22.64      0.0\n",
      "8  psi1    ARCH  m          -0.10126  0.01519  ***    -0.13106  -0.07145   -6.66      0.0\n",
      "9  log_variance_constant      -2e-05      0.0  ***      -2e-05    -2e-05  -12.18      0.0\n",
      "=========================================================================================\n",
      "Significance codes: '=0.1, *=0.05, **=0.01, ***=0.001,    |=collinear\n",
      "\n",
      "Diagnostics:\n",
      "=============================================================================\n",
      "Omnibus:                    314.548  Durbin-Watson:                     1.936\n",
      "Prob(Omnibus):              314.548  Jarque-Bera (JB):               1351.765\n",
      "Skew:                        -0.829  Prob(JB):                            0.0\n",
      "Kurtosis:                    39.828  Cond. No.:                          45.0\n",
      "                                     Cond. var count.:                      1\n",
      "                                                                             \n",
      "ADF statistic:               -3.712  ADF crit.val 1%:                   -3.43\n",
      "                                     ADF crit.val 5%:                   -2.86\n",
      "=============================================================================\n",
      "\n",
      "Df accounting:\n",
      "===========================================================================\n",
      "SAMPLE SIZE SUMMARY:                                                       \n",
      "Original sample size:        1376  Number of variables:                   3\n",
      "Sample size after removals:  1376  Number of groups:                      1\n",
      "Degrees of freedom:          1363  Number of dates (maximum):          1376\n",
      "                                                                           \n",
      "GROUP REMOVAL:                     DEGREES OF FREEDOM:                     \n",
      "Lost observations:                 A) sample size:                     1376\n",
      "A) ARIMA/GARCH:                 3  B) lost to GARCH/ARIMA:                3\n",
      "B) min obs (user preferences):  1  C) lost to FE/RE:                      0\n",
      "Required observations (A+B):    4  D) coefficients in regr:              10\n",
      "                                   Degrees of freedom (A-B-C-D):       1363\n",
      "Groups removed:                                                            \n",
      "A) total # of groups:           1                                          \n",
      "B) # of groups removed:         0                                          \n",
      "# of groups remaining (A-B):    1                                          \n",
      "# of observations removed:      0                                          \n",
      "===========================================================================\n",
      "\n",
      "\n"
     ]
    }
   ],
   "source": [
    "s = pt.execute(\"return~News_Change+LNews_Change1\",fake_news,T='Date')\n",
    "\n",
    "print(s)"
   ]
  },
  {
   "cell_type": "code",
   "execution_count": null,
   "metadata": {},
   "outputs": [],
   "source": []
  }
 ],
 "metadata": {
  "kernelspec": {
   "display_name": "Python 3",
   "language": "python",
   "name": "python3"
  },
  "language_info": {
   "codemirror_mode": {
    "name": "ipython",
    "version": 3
   },
   "file_extension": ".py",
   "mimetype": "text/x-python",
   "name": "python",
   "nbconvert_exporter": "python",
   "pygments_lexer": "ipython3",
   "version": "3.8.5"
  }
 },
 "nbformat": 4,
 "nbformat_minor": 4
}
