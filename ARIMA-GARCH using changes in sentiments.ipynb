{
 "cells": [
  {
   "cell_type": "markdown",
   "metadata": {},
   "source": [
    "# ARMA-GARCH"
   ]
  },
  {
   "cell_type": "code",
   "execution_count": 1,
   "metadata": {
    "tags": []
   },
   "outputs": [],
   "source": [
    "import paneltime as pt\n",
    "import pandas as pd\n",
    "\n",
    "pt.options.pqdkm.set([1,1,0,2,2])\n",
    "pt.options.fixed_random_group_eff.set(0)\n",
    "pt.options.fixed_random_time_eff.set(0)\n",
    "pt.options.EGARCH.set(False)\n",
    "\n",
    "%load_ext autoreload\n",
    "%autoreload 2"
   ]
  },
  {
   "cell_type": "markdown",
   "metadata": {},
   "source": [
    "#### ARMA-GARCH (Using *changes* in the news sentiment series, for which we use forecast error of AR(1))"
   ]
  },
  {
   "cell_type": "markdown",
   "metadata": {},
   "source": [
    "##### 1. For real news"
   ]
  },
  {
   "cell_type": "code",
   "execution_count": 2,
   "metadata": {
    "tags": []
   },
   "outputs": [],
   "source": [
    "real_news = pd.read_excel(\"RealNewsDjiaReturns.xlsx\")\n",
    "real_news = real_news.rename(columns={'Real News':'News_sentiment'})\n",
    "real_news = real_news.fillna(0)"
   ]
  },
  {
   "cell_type": "code",
   "execution_count": 3,
   "metadata": {
    "tags": []
   },
   "outputs": [
    {
     "data": {
      "text/html": [
       "<div>\n",
       "<style scoped>\n",
       "    .dataframe tbody tr th:only-of-type {\n",
       "        vertical-align: middle;\n",
       "    }\n",
       "\n",
       "    .dataframe tbody tr th {\n",
       "        vertical-align: top;\n",
       "    }\n",
       "\n",
       "    .dataframe thead th {\n",
       "        text-align: right;\n",
       "    }\n",
       "</style>\n",
       "<table border=\"1\" class=\"dataframe\">\n",
       "  <thead>\n",
       "    <tr style=\"text-align: right;\">\n",
       "      <th></th>\n",
       "      <th>Date</th>\n",
       "      <th>News_sentiment</th>\n",
       "      <th>return</th>\n",
       "    </tr>\n",
       "  </thead>\n",
       "  <tbody>\n",
       "    <tr>\n",
       "      <th>0</th>\n",
       "      <td>2014-11-17</td>\n",
       "      <td>-0.011141</td>\n",
       "      <td>0.000737</td>\n",
       "    </tr>\n",
       "    <tr>\n",
       "      <th>1</th>\n",
       "      <td>2014-11-18</td>\n",
       "      <td>-0.023757</td>\n",
       "      <td>0.002268</td>\n",
       "    </tr>\n",
       "    <tr>\n",
       "      <th>2</th>\n",
       "      <td>2014-11-19</td>\n",
       "      <td>-0.020513</td>\n",
       "      <td>-0.000118</td>\n",
       "    </tr>\n",
       "    <tr>\n",
       "      <th>3</th>\n",
       "      <td>2014-11-20</td>\n",
       "      <td>-0.017292</td>\n",
       "      <td>0.001879</td>\n",
       "    </tr>\n",
       "    <tr>\n",
       "      <th>4</th>\n",
       "      <td>2014-11-21</td>\n",
       "      <td>-0.014237</td>\n",
       "      <td>0.005126</td>\n",
       "    </tr>\n",
       "    <tr>\n",
       "      <th>...</th>\n",
       "      <td>...</td>\n",
       "      <td>...</td>\n",
       "      <td>...</td>\n",
       "    </tr>\n",
       "    <tr>\n",
       "      <th>1856</th>\n",
       "      <td>2022-04-04</td>\n",
       "      <td>-0.010877</td>\n",
       "      <td>0.002982</td>\n",
       "    </tr>\n",
       "    <tr>\n",
       "      <th>1857</th>\n",
       "      <td>2022-04-05</td>\n",
       "      <td>-0.010975</td>\n",
       "      <td>-0.008044</td>\n",
       "    </tr>\n",
       "    <tr>\n",
       "      <th>1858</th>\n",
       "      <td>2022-04-06</td>\n",
       "      <td>-0.013732</td>\n",
       "      <td>-0.004198</td>\n",
       "    </tr>\n",
       "    <tr>\n",
       "      <th>1859</th>\n",
       "      <td>2022-04-07</td>\n",
       "      <td>0.377177</td>\n",
       "      <td>0.002513</td>\n",
       "    </tr>\n",
       "    <tr>\n",
       "      <th>1860</th>\n",
       "      <td>2022-04-08</td>\n",
       "      <td>-0.011604</td>\n",
       "      <td>0.004011</td>\n",
       "    </tr>\n",
       "  </tbody>\n",
       "</table>\n",
       "<p>1861 rows × 3 columns</p>\n",
       "</div>"
      ],
      "text/plain": [
       "           Date  News_sentiment    return\n",
       "0    2014-11-17       -0.011141  0.000737\n",
       "1    2014-11-18       -0.023757  0.002268\n",
       "2    2014-11-19       -0.020513 -0.000118\n",
       "3    2014-11-20       -0.017292  0.001879\n",
       "4    2014-11-21       -0.014237  0.005126\n",
       "...         ...             ...       ...\n",
       "1856 2022-04-04       -0.010877  0.002982\n",
       "1857 2022-04-05       -0.010975 -0.008044\n",
       "1858 2022-04-06       -0.013732 -0.004198\n",
       "1859 2022-04-07        0.377177  0.002513\n",
       "1860 2022-04-08       -0.011604  0.004011\n",
       "\n",
       "[1861 rows x 3 columns]"
      ]
     },
     "execution_count": 3,
     "metadata": {},
     "output_type": "execute_result"
    }
   ],
   "source": [
    "real_news"
   ]
  },
  {
   "cell_type": "code",
   "execution_count": 5,
   "metadata": {
    "tags": []
   },
   "outputs": [],
   "source": [
    "import numpy as np\n",
    "from statsmodels.tsa.ar_model import AutoReg\n",
    "from statsmodels.tsa.stattools import adfuller\n",
    "\n",
    "df = real_news[['News_sentiment']]\n",
    "\n",
    "# Check for stationarity. If p > 0.05, difference the series.\n",
    "result = adfuller(df)\n",
    "if result[1] > 0.05:\n",
    "    df = sdf.diff().dropna()\n",
    "\n",
    "errors = []\n",
    "\n",
    "for t in range(4, len(df)):\n",
    "    train = df.iloc[:t]\n",
    "    test = df.iloc[t]\n",
    "    \n",
    "    model = AutoReg(train, lags=1)\n",
    "    model_fit = model.fit()\n",
    "    \n",
    "    prediction = model_fit.predict(start=len(train), end=len(train))\n",
    "    \n",
    "    # Check if the prediction is nan.\n",
    "    if not np.isnan(prediction.iloc[0]):\n",
    "        error = test - prediction.iloc[0]\n",
    "        errors.append(error)\n",
    "\n",
    "# Convert errors to a numpy array\n",
    "errors = np.array(errors)"
   ]
  },
  {
   "cell_type": "code",
   "execution_count": 6,
   "metadata": {
    "tags": []
   },
   "outputs": [
    {
     "data": {
      "text/plain": [
       "1857"
      ]
     },
     "execution_count": 6,
     "metadata": {},
     "output_type": "execute_result"
    }
   ],
   "source": [
    "len(errors)"
   ]
  },
  {
   "cell_type": "code",
   "execution_count": 7,
   "metadata": {
    "tags": []
   },
   "outputs": [
    {
     "name": "stderr",
     "output_type": "stream",
     "text": [
      "C:\\Users\\esi000\\AppData\\Local\\Temp\\ipykernel_17848\\1526258794.py:2: SettingWithCopyWarning: \n",
      "A value is trying to be set on a copy of a slice from a DataFrame.\n",
      "Try using .loc[row_indexer,col_indexer] = value instead\n",
      "\n",
      "See the caveats in the documentation: https://pandas.pydata.org/pandas-docs/stable/user_guide/indexing.html#returning-a-view-versus-a-copy\n",
      "  real_news ['News_Change'] = errors\n"
     ]
    },
    {
     "data": {
      "text/plain": [
       "1857"
      ]
     },
     "execution_count": 7,
     "metadata": {},
     "output_type": "execute_result"
    }
   ],
   "source": [
    "real_news = real_news [4:]\n",
    "real_news ['News_Change'] = errors\n",
    "del real_news['News_sentiment']\n",
    "len(real_news)"
   ]
  },
  {
   "cell_type": "code",
   "execution_count": 8,
   "metadata": {
    "tags": []
   },
   "outputs": [
    {
     "name": "stderr",
     "output_type": "stream",
     "text": [
      "C:\\Users\\esi000\\AppData\\Local\\Temp\\ipykernel_17848\\3837687540.py:1: SettingWithCopyWarning: \n",
      "A value is trying to be set on a copy of a slice from a DataFrame.\n",
      "Try using .loc[row_indexer,col_indexer] = value instead\n",
      "\n",
      "See the caveats in the documentation: https://pandas.pydata.org/pandas-docs/stable/user_guide/indexing.html#returning-a-view-versus-a-copy\n",
      "  real_news['LNews_Change1'] = real_news['News_Change'].shift(1)\n"
     ]
    }
   ],
   "source": [
    "real_news['LNews_Change1'] = real_news['News_Change'].shift(1)\n",
    "\n",
    "real_news = real_news.dropna()"
   ]
  },
  {
   "cell_type": "code",
   "execution_count": 10,
   "metadata": {
    "tags": []
   },
   "outputs": [
    {
     "name": "stdout",
     "output_type": "stream",
     "text": [
      "its:0, f:5859.586184361455, gnorm: 0.00908892235863256\n",
      "its:1, f:5978.013185345577, gnorm: 0.030383357778257267\n",
      "its:2, f:6113.6853543078605, gnorm: 0.053073636165500634\n",
      "its:3, f:6199.712025523056, gnorm: 0.03407646686199868\n",
      "its:4, f:6203.950987086902, gnorm: 0.05445345312794408\n",
      "its:5, f:6211.836888483907, gnorm: 0.009012562690195751\n",
      "its:6, f:6213.323538667338, gnorm: 0.007292118093241004\n",
      "its:7, f:6213.9831734485715, gnorm: 0.0011420250093131953\n",
      "its:8, f:6224.493115390089, gnorm: 0.00997755009301662\n",
      "its:9, f:6226.135207962834, gnorm: 0.0073322439440423725\n",
      "its:10, f:6231.244050751822, gnorm: 0.007789305930624122\n",
      "its:11, f:6231.663257321745, gnorm: 0.009485271033190489\n",
      "its:12, f:6231.928717469995, gnorm: 0.00899713742555405\n",
      "its:13, f:6232.16283861388, gnorm: 0.0012493921136737098\n",
      "its:14, f:6232.255336495797, gnorm: 0.0013852310063113462\n",
      "node: 5, its: 15,  LL:6232.280987308162\n",
      "Convergence on zero gradient; local or global minimum identified\n",
      "Statistics:\n",
      "========================================================================\n",
      "Dep. Variable:          return  R-squared:                          -0.0\n",
      "Model:  ARMA(1, 1)-GARCH(2, 2)  Adj R-squared:                    -0.006\n",
      "Method:     Maximum Likelihood  F-statistic:                      -0.182\n",
      "Date:         Fri, 13 Oct 2023  Prob (F-statistic):                1.199\n",
      "Time:                 09:58:12  Log-Likelihood:                 6232.281\n",
      "Run time:                  4.0  AIC:                          -12458.562\n",
      "Observations count:       1853  BIC:                           -6905.562\n",
      "Df Residuals:             1843  Panel groups:                          1\n",
      "Df Model:                    2  Panel dates:                        1856\n",
      "Covariance Type:          True                                          \n",
      "========================================================================\n",
      "\n",
      "\n",
      "Regression results:\n",
      "=========================================================================================\n",
      "   Variable names               coef  std err           [0.025    0.975]       t    P>|t|\n",
      "-----------------------------------------------------------------------------------------\n",
      "0  Intercept                 0.00076  0.00018  ***     0.00041   0.00112    4.22    1e-05\n",
      "1  News_Change              -0.00061    6e-05  ***    -0.00073  -0.00049   -9.76      0.0\n",
      "2  LNews_Change1                 0.0  0.00024         -0.00046   0.00046     0.0  0.49864\n",
      "3  rho0    AR    p           -0.6304  0.17051  ***    -0.96481  -0.29599    -3.7  0.00011\n",
      "4  lambda0 MA    q            0.5925  0.17456  ***     0.25014   0.93486    3.39  0.00035\n",
      "5  gamma0  GARCH k            0.5602  0.08259  ***     0.39823   0.72218    6.78      0.0\n",
      "6  gamma1  GARCH k           0.09229  0.07661         -0.05796   0.24254     1.2  0.11423\n",
      "7  psi0    ARCH  m            0.4463  0.11255  ***     0.22556   0.66704    3.97    4e-05\n",
      "8  psi1    ARCH  m          -0.08364  0.11388         -0.30698    0.1397   -0.73  0.23138\n",
      "9  log_variance_constant      -4e-05      0.0  ***      -5e-05    -4e-05  -29.23      0.0\n",
      "=========================================================================================\n",
      "Significance codes: '=0.1, *=0.05, **=0.01, ***=0.001,    |=collinear\n",
      "\n",
      "Diagnostics:\n",
      "============================================================================\n",
      "Omnibus:                   244.843  Durbin-Watson:                     1.931\n",
      "Prob(Omnibus):             244.843  Jarque-Bera (JB):                490.891\n",
      "Skew:                       -0.631  Prob(JB):                            0.0\n",
      "Kurtosis:                   27.684  Cond. No.:                          76.0\n",
      "                                    Cond. var count.:                      1\n",
      "                                                                            \n",
      "ADF statistic:              -4.355  ADF crit.val 1%:                   -3.43\n",
      "                                    ADF crit.val 5%:                   -2.86\n",
      "============================================================================\n",
      "\n",
      "Df accounting:\n",
      "===========================================================================\n",
      "SAMPLE SIZE SUMMARY:                                                       \n",
      "Original sample size:        1856  Number of variables:                   3\n",
      "Sample size after removals:  1856  Number of groups:                      1\n",
      "Degrees of freedom:          1843  Number of dates (maximum):          1856\n",
      "                                                                           \n",
      "GROUP REMOVAL:                     DEGREES OF FREEDOM:                     \n",
      "Lost observations:                 A) sample size:                     1856\n",
      "A) ARIMA/GARCH:                 3  B) lost to GARCH/ARIMA:                3\n",
      "B) min obs (user preferences):  1  C) lost to FE/RE:                      0\n",
      "Required observations (A+B):    4  D) coefficients in regr:              10\n",
      "                                   Degrees of freedom (A-B-C-D):       1843\n",
      "Groups removed:                                                            \n",
      "A) total # of groups:           1                                          \n",
      "B) # of groups removed:         0                                          \n",
      "# of groups remaining (A-B):    1                                          \n",
      "# of observations removed:      0                                          \n",
      "===========================================================================\n",
      "\n",
      "\n"
     ]
    }
   ],
   "source": [
    "s = pt.execute(\"return~News_Change+LNews_Change1\",real_news,T='Date')\n",
    "\n",
    "print(s)"
   ]
  },
  {
   "cell_type": "markdown",
   "metadata": {},
   "source": [
    "##### 2. For fake news"
   ]
  },
  {
   "cell_type": "code",
   "execution_count": 10,
   "metadata": {
    "tags": []
   },
   "outputs": [],
   "source": [
    "fake_news = pd.read_excel(\"FakeNewsDjiaReturn.xlsx\")\n",
    "fake_news = fake_news.rename(columns={'News sentiment':'News_sentiment'})\n",
    "fake_news = fake_news.fillna(0)"
   ]
  },
  {
   "cell_type": "code",
   "execution_count": 11,
   "metadata": {
    "tags": []
   },
   "outputs": [],
   "source": [
    "df = fake_news[['News_sentiment']]\n",
    "\n",
    "# Check for stationarity. If p > 0.05, difference the series.\n",
    "result = adfuller(df)\n",
    "if result[1] > 0.05:\n",
    "    df = sdf.diff().dropna()\n",
    "\n",
    "errors = []\n",
    "\n",
    "for t in range(4, len(df)):\n",
    "    train = df.iloc[:t]\n",
    "    test = df.iloc[t]\n",
    "    \n",
    "    model = AutoReg(train, lags=1)\n",
    "    model_fit = model.fit()\n",
    "    \n",
    "    prediction = model_fit.predict(start=len(train), end=len(train))\n",
    "    \n",
    "    \n",
    "    if not np.isnan(prediction.iloc[0]):\n",
    "        error = test - prediction.iloc[0]\n",
    "        errors.append(error)\n",
    "\n",
    "# Convert errors to a numpy array\n",
    "errors = np.array(errors)"
   ]
  },
  {
   "cell_type": "code",
   "execution_count": 12,
   "metadata": {
    "tags": []
   },
   "outputs": [
    {
     "data": {
      "text/plain": [
       "1377"
      ]
     },
     "execution_count": 12,
     "metadata": {},
     "output_type": "execute_result"
    }
   ],
   "source": [
    "len(errors)"
   ]
  },
  {
   "cell_type": "code",
   "execution_count": 13,
   "metadata": {
    "tags": []
   },
   "outputs": [
    {
     "data": {
      "text/plain": [
       "1377"
      ]
     },
     "execution_count": 13,
     "metadata": {},
     "output_type": "execute_result"
    }
   ],
   "source": [
    "fake_news = fake_news [4:]\n",
    "fake_news ['News_Change'] = errors\n",
    "del fake_news['News_sentiment']\n",
    "len(fake_news)"
   ]
  },
  {
   "cell_type": "code",
   "execution_count": 14,
   "metadata": {
    "tags": []
   },
   "outputs": [],
   "source": [
    "fake_news['LNews_Change1'] = fake_news['News_Change'].shift(1)\n",
    "\n",
    "fake_news = fake_news.dropna()"
   ]
  },
  {
   "cell_type": "code",
   "execution_count": 15,
   "metadata": {
    "tags": []
   },
   "outputs": [
    {
     "name": "stdout",
     "output_type": "stream",
     "text": [
      "its:0, f:4454.402541775244, gnorm: 0.010684283740289856\n",
      "its:1, f:4546.822460264395, gnorm: 0.03223647586959485\n",
      "its:2, f:4631.074355474359, gnorm: 0.041414817198516134\n",
      "its:3, f:4656.886149309241, gnorm: 0.005212854287561262\n",
      "its:4, f:4661.25770274345, gnorm: 0.012902305779860354\n",
      "its:5, f:4661.521068159587, gnorm: 0.0037381076080320996\n",
      "its:6, f:4663.205228274819, gnorm: 0.028943611655292502\n",
      "its:7, f:4665.361674290194, gnorm: 0.0033675958875192887\n",
      "its:8, f:4675.166054388039, gnorm: 0.010654190004684531\n",
      "its:9, f:4685.014452090507, gnorm: 0.04075661530808496\n",
      "its:10, f:4693.751868559929, gnorm: 0.013212049995356061\n",
      "its:11, f:4699.165162308738, gnorm: 0.008525145450450002\n",
      "its:12, f:4699.859882366327, gnorm: 0.002774814916715081\n",
      "its:13, f:4702.170729747144, gnorm: 0.01938562292260008\n",
      "its:14, f:4703.328458407403, gnorm: 0.003651476231278178\n",
      "its:15, f:4703.57727499851, gnorm: 0.012403560399662344\n",
      "its:16, f:4704.444543013282, gnorm: 0.0011694478390024618\n",
      "node: 5, its: 17,  LL:4704.4510990664\n",
      "Convergence on zero gradient; local or global minimum identified\n",
      "Statistics:\n",
      "========================================================================\n",
      "Dep. Variable:          return  R-squared:                        -0.003\n",
      "Model:  ARMA(1, 1)-GARCH(2, 2)  Adj R-squared:                     -0.01\n",
      "Method:     Maximum Likelihood  F-statistic:                      -1.741\n",
      "Date:         Tue, 03 Oct 2023  Prob (F-statistic):                5.716\n",
      "Time:                 13:51:35  Log-Likelihood:                 4704.451\n",
      "Run time:                  2.0  AIC:                           -9402.902\n",
      "Observations count:       1373  BIC:                           -5289.902\n",
      "Df Residuals:             1363  Panel groups:                          1\n",
      "Df Model:                    2  Panel dates:                        1376\n",
      "Covariance Type:          True                                          \n",
      "========================================================================\n",
      "\n",
      "\n",
      "Regression results:\n",
      "=========================================================================================\n",
      "   Variable names               coef  std err           [0.025    0.975]       t    P>|t|\n",
      "-----------------------------------------------------------------------------------------\n",
      "0  Intercept                 0.00057  0.00017  ***     0.00023   0.00092    3.31  0.00048\n",
      "1  News_Change              -0.00067  0.00432         -0.00913    0.0078   -0.15  0.43876\n",
      "2  LNews_Change1             0.00522  0.00394  '       -0.0025   0.01294    1.33  0.09259\n",
      "3  rho0    AR    p          -0.69205  0.23106  **     -1.14532  -0.23878    -3.0   0.0014\n",
      "4  lambda0 MA    q           0.65185  0.24358  **      0.17403   1.12967    2.68  0.00377\n",
      "5  gamma0  GARCH k           0.65009  0.02337  ***     0.60425   0.69593   27.82      0.0\n",
      "6  gamma1  GARCH k           0.10487  0.02557  ***     0.05471   0.15503     4.1    2e-05\n",
      "7  psi0    ARCH  m           0.30988  0.01369  ***     0.28303   0.33673   22.64      0.0\n",
      "8  psi1    ARCH  m          -0.10126  0.01519  ***    -0.13106  -0.07145   -6.66      0.0\n",
      "9  log_variance_constant      -2e-05      0.0  ***      -2e-05    -2e-05  -12.18      0.0\n",
      "=========================================================================================\n",
      "Significance codes: '=0.1, *=0.05, **=0.01, ***=0.001,    |=collinear\n",
      "\n",
      "Diagnostics:\n",
      "=============================================================================\n",
      "Omnibus:                    314.548  Durbin-Watson:                     1.936\n",
      "Prob(Omnibus):              314.548  Jarque-Bera (JB):               1351.765\n",
      "Skew:                        -0.829  Prob(JB):                            0.0\n",
      "Kurtosis:                    39.828  Cond. No.:                          45.0\n",
      "                                     Cond. var count.:                      1\n",
      "                                                                             \n",
      "ADF statistic:               -3.712  ADF crit.val 1%:                   -3.43\n",
      "                                     ADF crit.val 5%:                   -2.86\n",
      "=============================================================================\n",
      "\n",
      "Df accounting:\n",
      "===========================================================================\n",
      "SAMPLE SIZE SUMMARY:                                                       \n",
      "Original sample size:        1376  Number of variables:                   3\n",
      "Sample size after removals:  1376  Number of groups:                      1\n",
      "Degrees of freedom:          1363  Number of dates (maximum):          1376\n",
      "                                                                           \n",
      "GROUP REMOVAL:                     DEGREES OF FREEDOM:                     \n",
      "Lost observations:                 A) sample size:                     1376\n",
      "A) ARIMA/GARCH:                 3  B) lost to GARCH/ARIMA:                3\n",
      "B) min obs (user preferences):  1  C) lost to FE/RE:                      0\n",
      "Required observations (A+B):    4  D) coefficients in regr:              10\n",
      "                                   Degrees of freedom (A-B-C-D):       1363\n",
      "Groups removed:                                                            \n",
      "A) total # of groups:           1                                          \n",
      "B) # of groups removed:         0                                          \n",
      "# of groups remaining (A-B):    1                                          \n",
      "# of observations removed:      0                                          \n",
      "===========================================================================\n",
      "\n",
      "\n"
     ]
    }
   ],
   "source": [
    "s = pt.execute(\"return~News_Change+LNews_Change1\",fake_news,T='Date')\n",
    "\n",
    "print(s)"
   ]
  },
  {
   "cell_type": "code",
   "execution_count": null,
   "metadata": {},
   "outputs": [],
   "source": []
  }
 ],
 "metadata": {
  "kernelspec": {
   "display_name": "Python 3 (ipykernel)",
   "language": "python",
   "name": "python3"
  },
  "language_info": {
   "codemirror_mode": {
    "name": "ipython",
    "version": 3
   },
   "file_extension": ".py",
   "mimetype": "text/x-python",
   "name": "python",
   "nbconvert_exporter": "python",
   "pygments_lexer": "ipython3",
   "version": "3.11.6"
  }
 },
 "nbformat": 4,
 "nbformat_minor": 4
}
